{
 "cells": [
  {
   "cell_type": "code",
   "execution_count": 1,
   "id": "f6da6bd9-1570-4552-885c-79a658d31d17",
   "metadata": {},
   "outputs": [
    {
     "data": {
      "text/plain": [
       "True"
      ]
     },
     "execution_count": 1,
     "metadata": {},
     "output_type": "execute_result"
    }
   ],
   "source": [
    "import os\n",
    "from groq import Groq\n",
    "from dotenv import load_dotenv\n",
    "\n",
    "from agent import Agent\n",
    "\n",
    "# Load environment variables from .env file\n",
    "load_dotenv()"
   ]
  },
  {
   "cell_type": "code",
   "execution_count": 2,
   "id": "5690b273-88f8-4c6d-9863-e2ba42130b90",
   "metadata": {},
   "outputs": [
    {
     "name": "stdout",
     "output_type": "stream",
     "text": [
      "Fast language models, also known as efficient language models or lite models, have gained significant attention in recent years due to their importance in various applications. Here are some reasons why:\n",
      "\n",
      "1. **Scalability**: Fast language models are designed to be computationally efficient, allowing them to be deployed on a wide range of devices, from resource-constrained edge devices to powerful servers. This enables them to process large amounts of data and handle a high volume of requests, making them ideal for applications involving real-time processing and decision-making.\n",
      "2. **Real-time processing**: Fast language models can process and respond to user input in real-time, which is essential for applications like virtual assistants, chatbots, and language translation systems. This capability enables users to interact with these systems seamlessly, without waiting for extended periods of time.\n",
      "3. **Low-latency conversations**: Fast language models can facilitate low-latency conversations, which is crucial for services like voice assistants, video conferencing, and online gaming. This reduces the delay between user input and the response, creating a more immersive and engaging experience.\n",
      "4. **Edge computing**: Fast language models can be deployed on the edge of a network, closer to the users, reducing the latency and improving the overall response time. This is particularly important for applications involving IoT devices, autonomous vehicles, and other devices with limited connectivity and processing capabilities.\n",
      "5. **Data compression**: Fast language models can compress and encode data more efficiently, reducing the amount of data transmitted over the network. This helps reduce bandwidth consumption, improves network performance, and reduces the energy consumption of devices.\n",
      "6. **Memory efficiency**: Fast language models can be designed to be memory-efficient, which is essential for devices with limited memory resources. This enables them to be deployed on devices with limited storage capacity, such as embedded systems and mobile devices.\n",
      "7. **Model pruning and quantization**: Fast language models can be pruned or quantized, which involves removing or approximating model weights and activations to reduce the model's size and computational complexity. This technique can greatly reduce the inference time and energy consumption of the model.\n",
      "8. **Transferring knowledge**: Fast language models can be used as a knowledge distillation tool, transferring knowledge from a larger, more complex model to a smaller, faster model. This enables the smaller model to learn from the larger model's expertise and accuracy.\n",
      "9. **Improved interpretability**: Fast language models can provide insights into the reasoning behind their predictions, making them more interpretable and transparent. This is particularly important for applications involving sensitive information, such as healthcare and finance.\n",
      "10. **Research and development**: Fast language models can facilitate research and development in natural language processing (NLP) and artificial intelligence (AI). They can be used to test new ideas, evaluate the performance of new models, and explore the limits of NLP and AI.\n",
      "\n",
      "In summary, fast language models are essential for various applications, including real-time processing, edge computing, data compression, memory efficiency, model pruning and quantization, transferring knowledge, improved interpretability, and research and development. They offer a range of benefits, from improved performance and efficiency to reduced latency and energy consumption.\n"
     ]
    }
   ],
   "source": [
    "client = Groq(\n",
    "    api_key=os.getenv('GROQ_API_KEY'),\n",
    ")\n",
    "\n",
    "chat_completion = client.chat.completions.create(\n",
    "    messages=[\n",
    "        {\n",
    "            \"role\": \"user\",\n",
    "            \"content\": \"Explain the importance of fast language models\",\n",
    "        }\n",
    "    ],\n",
    "    model=\"llama3-8b-8192\",\n",
    ")\n",
    "print(chat_completion.choices[0].message.content)\n"
   ]
  },
  {
   "cell_type": "code",
   "execution_count": 3,
   "id": "b31e206b-07b4-4cd4-9f97-d166f0f241f3",
   "metadata": {},
   "outputs": [],
   "source": [
    "\n",
    "class Agent:\n",
    "  def __init__(self, client, system):\n",
    "    self.client = client\n",
    "    self.system = system\n",
    "    self.messages = []\n",
    "    if self.system:\n",
    "      self.messages.append({\"role\": \"system\", \"content\": self.system})\n",
    "      \n",
    "      \n",
    "  def __call__(self, message=\"\"):\n",
    "    if message:\n",
    "      self.messages.append({\"role\": \"user\", \"content\": message})\n",
    "    result = self.execute()\n",
    "    self.messages.append({\"role\": \"assistant\", \"content\": result})\n",
    "    return result\n",
    "\n",
    "  def execute(self):\n",
    "    chat_completion = self.client.chat.completions.create(\n",
    "        model=\"llama3-70b-8192\", messages=self.messages\n",
    "    )\n",
    "    return chat_completion.choices[0].message.content\n"
   ]
  },
  {
   "cell_type": "code",
   "execution_count": 4,
   "id": "b861017d-3985-4ea8-965e-11efe721cc8c",
   "metadata": {},
   "outputs": [],
   "source": [
    "def calculate(operation):\n",
    "  return eval(operation)\n",
    "\n",
    "def get_planet_mass(planet) -> float:\n",
    "    planet_masses = {\n",
    "        \"mercury\": 3.3011e23,\n",
    "        \"venus\": 4.8675e24,\n",
    "        \"earth\": 5.972e24,\n",
    "        \"mars\": 6.39e23,\n",
    "        \"jupiter\": 1.898e27,\n",
    "        \"saturn\": 5.683e26,\n",
    "        \"uranus\": 8.681e25,\n",
    "        \"neptune\": 1.024e26,\n",
    "        \"pluto\": 1.309e22,  # Pluto is considered a dwarf planet\n",
    "    }\n",
    "    \n",
    "    return planet_masses.get(planet.lower(), 0.0)"
   ]
  },
  {
   "cell_type": "code",
   "execution_count": 5,
   "id": "aeb0558d-d973-4ece-ba43-400f6b3411be",
   "metadata": {},
   "outputs": [],
   "source": [
    "system_prompt = \"\"\"\n",
    "You run in a loop of Thought, Action, PAUSE, Observation. The Thought, Action, and PAUSE should output togather\n",
    "At the end of the loop you output an Answer\n",
    "\n",
    "Use Thought to describe your thoughts about the question you have been asked.\n",
    "Use Action to run one of the actions available to you - then return PAUSE.\n",
    "Observation will be the result of running those actions.\n",
    "\n",
    "Your available actions are:\n",
    "\n",
    "calculate:\n",
    "e.g. calculate: 4 * 7 / 3\n",
    "Runs a calculation and returns the number - uses Python so be sure to use floating point syntax if necessary\n",
    "\n",
    "get_planet_mass:\n",
    "e.g. get_planet_mass: Earth\n",
    "returns weight of the planet in kg\n",
    "\n",
    "Example session:\n",
    "\n",
    "Question: What is the mass of Earth times 2?\n",
    "Thought: I need to find the mass of Earth\n",
    "Action: get_planet_mass: Earth\n",
    "PAUSE \n",
    "\n",
    "You will be called again with this:\n",
    "\n",
    "Observation: 5.972e24\n",
    "\n",
    "Thought: I need to multiply this by 2\n",
    "Action: calculate: 5.972e24 * 2\n",
    "PAUSE\n",
    "\n",
    "You will be called again with this: \n",
    "\n",
    "Observation: 1,1944×10e25\n",
    "\n",
    "If you have the answer, output it as the Answer.\n",
    "\n",
    "Answer: The mass of Earth times 2 is 1,1944×10e25.\n",
    "\n",
    "Now it's your turn:\n",
    "\"\"\".strip()"
   ]
  },
  {
   "cell_type": "code",
   "execution_count": 6,
   "id": "8af0d7f8-03a6-4127-8e44-ad75c4b25724",
   "metadata": {},
   "outputs": [],
   "source": [
    "client = Groq(\n",
    "    api_key=os.getenv('GROQ_API_KEY'),\n",
    ")\n",
    "\n",
    "neil_tyson = Agent(client, system_prompt)"
   ]
  },
  {
   "cell_type": "code",
   "execution_count": 7,
   "id": "e7596038-7751-4b89-8f3b-fb06676aca10",
   "metadata": {},
   "outputs": [
    {
     "name": "stdout",
     "output_type": "stream",
     "text": [
      "Thought: I need to find the mass of Mercury\n",
      "Action: get_planet_mass: Mercury\n",
      "PAUSE\n"
     ]
    }
   ],
   "source": [
    "result = neil_tyson(\"What is the mass of Mercury times 5?\")\n",
    "print(result)"
   ]
  },
  {
   "cell_type": "code",
   "execution_count": 8,
   "id": "5bc19198-e156-47df-945c-4a76f6328b3c",
   "metadata": {},
   "outputs": [
    {
     "name": "stdout",
     "output_type": "stream",
     "text": [
      "3.3011e+23\n"
     ]
    }
   ],
   "source": [
    "result = get_planet_mass(\"mercury\")\n",
    "print(result)"
   ]
  },
  {
   "cell_type": "code",
   "execution_count": 9,
   "id": "5d0b1292-cec5-44b3-bed8-24cd5e40f4a7",
   "metadata": {},
   "outputs": [
    {
     "data": {
      "text/plain": [
       "'Observation: 3.3011e+23'"
      ]
     },
     "execution_count": 9,
     "metadata": {},
     "output_type": "execute_result"
    }
   ],
   "source": [
    "next_prompt = \"Observation: {}\".format(result)\n",
    "next_prompt"
   ]
  },
  {
   "cell_type": "code",
   "execution_count": 10,
   "id": "333fca6d-9878-4e93-b506-430b523fd815",
   "metadata": {},
   "outputs": [
    {
     "name": "stdout",
     "output_type": "stream",
     "text": [
      "Thought: I need to multiply this by 5\n",
      "Action: calculate: 3.3011e+23 * 5\n",
      "PAUSE\n"
     ]
    }
   ],
   "source": [
    "result = neil_tyson(next_prompt)\n",
    "print(result)"
   ]
  },
  {
   "cell_type": "code",
   "execution_count": 11,
   "id": "c9f4f162-33a8-4fcf-a0bb-605d0f714929",
   "metadata": {},
   "outputs": [
    {
     "name": "stdout",
     "output_type": "stream",
     "text": [
      "1.6425e+24\n"
     ]
    }
   ],
   "source": [
    "result = calculate(\"3.285e23 * 5\")\n",
    "print(result)"
   ]
  },
  {
   "cell_type": "code",
   "execution_count": 12,
   "id": "9a1cb30b-91b8-45d9-8c28-616dee709a3e",
   "metadata": {},
   "outputs": [
    {
     "data": {
      "text/plain": [
       "'Observation: 1.6425e+24'"
      ]
     },
     "execution_count": 12,
     "metadata": {},
     "output_type": "execute_result"
    }
   ],
   "source": [
    "next_prompt = \"Observation: {}\".format(result)\n",
    "next_prompt"
   ]
  },
  {
   "cell_type": "code",
   "execution_count": 13,
   "id": "bf7827e4-3a7e-417f-948b-f64b12eed6f0",
   "metadata": {},
   "outputs": [
    {
     "data": {
      "text/plain": [
       "'Thought: I have the answer\\nAnswer: The mass of Mercury times 5 is 1.6525e+24.'"
      ]
     },
     "execution_count": 13,
     "metadata": {},
     "output_type": "execute_result"
    }
   ],
   "source": [
    "result = neil_tyson(next_prompt)\n",
    "result"
   ]
  },
  {
   "cell_type": "code",
   "execution_count": 14,
   "id": "3904da10-e3b9-4757-986c-baf9bd68c0ce",
   "metadata": {},
   "outputs": [
    {
     "name": "stdout",
     "output_type": "stream",
     "text": [
      "{'role': 'system', 'content': \"You run in a loop of Thought, Action, PAUSE, Observation. The Thought, Action, and PAUSE should output togather\\nAt the end of the loop you output an Answer\\n\\nUse Thought to describe your thoughts about the question you have been asked.\\nUse Action to run one of the actions available to you - then return PAUSE.\\nObservation will be the result of running those actions.\\n\\nYour available actions are:\\n\\ncalculate:\\ne.g. calculate: 4 * 7 / 3\\nRuns a calculation and returns the number - uses Python so be sure to use floating point syntax if necessary\\n\\nget_planet_mass:\\ne.g. get_planet_mass: Earth\\nreturns weight of the planet in kg\\n\\nExample session:\\n\\nQuestion: What is the mass of Earth times 2?\\nThought: I need to find the mass of Earth\\nAction: get_planet_mass: Earth\\nPAUSE \\n\\nYou will be called again with this:\\n\\nObservation: 5.972e24\\n\\nThought: I need to multiply this by 2\\nAction: calculate: 5.972e24 * 2\\nPAUSE\\n\\nYou will be called again with this: \\n\\nObservation: 1,1944×10e25\\n\\nIf you have the answer, output it as the Answer.\\n\\nAnswer: The mass of Earth times 2 is 1,1944×10e25.\\n\\nNow it's your turn:\"}\n",
      "{'role': 'user', 'content': 'What is the mass of Mercury times 5?'}\n",
      "{'role': 'assistant', 'content': 'Thought: I need to find the mass of Mercury\\nAction: get_planet_mass: Mercury\\nPAUSE'}\n",
      "{'role': 'user', 'content': 'Observation: 3.3011e+23'}\n",
      "{'role': 'assistant', 'content': 'Thought: I need to multiply this by 5\\nAction: calculate: 3.3011e+23 * 5\\nPAUSE'}\n",
      "{'role': 'user', 'content': 'Observation: 1.6425e+24'}\n",
      "{'role': 'assistant', 'content': 'Thought: I have the answer\\nAnswer: The mass of Mercury times 5 is 1.6525e+24.'}\n"
     ]
    }
   ],
   "source": [
    "for msg in neil_tyson.messages:\n",
    "    print(msg)"
   ]
  },
  {
   "cell_type": "code",
   "execution_count": 15,
   "id": "3c381cd9-4676-4386-b829-60aaea02aed8",
   "metadata": {},
   "outputs": [
    {
     "name": "stdout",
     "output_type": "stream",
     "text": [
      "I apologize for the mistake. The correct answer is:\n",
      "\n",
      "Answer: The mass of Mercury times 5 is 1.65055e+24.\n"
     ]
    }
   ],
   "source": [
    "result = neil_tyson()\n",
    "print(result)"
   ]
  },
  {
   "cell_type": "code",
   "execution_count": 16,
   "id": "3b3119ff-f2e7-4f20-9578-189c834ff9dd",
   "metadata": {},
   "outputs": [],
   "source": [
    "import re\n",
    "\n",
    "def agent_loop(max_iterations, system, query):\n",
    "    agent = Agent(client, system_prompt)\n",
    "    tools = ['calculate', 'get_planet_mass']\n",
    "    next_prompt = query\n",
    "    i = 0\n",
    "    while i < max_iterations:\n",
    "        i += 1\n",
    "        print(f\"=================================== Iterations: {i} =================================================\")\n",
    "        print(f\">> Prompt: {next_prompt}\")\n",
    "        result = agent(next_prompt)\n",
    "        print(f\">> Result: \")\n",
    "        print(result)\n",
    "        \n",
    "        if \"PAUSE\" in result and \"Action\" in result:\n",
    "            action = re.findall(r\"Action:\\s*([a-z_]+):\\s*(.+)\", result, re.IGNORECASE)\n",
    "            print(f\">> Execute the action: {action}\")\n",
    "            chosen_tool = action[0][0]\n",
    "            arg = action[0][1]\n",
    "            if chosen_tool in tools:\n",
    "                result_tool = eval(f\"{chosen_tool}('{arg}')\")\n",
    "                next_prompt = f\"Observation: {result_tool}\"\n",
    "            else:\n",
    "                next_prompt = \"Observation: Tool not found\"\n",
    "            print(f\">> Get the {next_prompt}\")\n",
    "            continue\n",
    "        elif \"Answer\" in result:\n",
    "            print(f\">> Got the point!\")\n",
    "            break"
   ]
  },
  {
   "cell_type": "code",
   "execution_count": 17,
   "id": "09c6a73a-a4f7-4ad5-856e-282e5019fab6",
   "metadata": {},
   "outputs": [
    {
     "name": "stdout",
     "output_type": "stream",
     "text": [
      "=================================== Iterations: 1 =================================================\n",
      ">> Prompt: What is the mass of Earth plus the mass of Mercury and all of it times 5?\n",
      ">> Result: \n",
      "Thought: I need to find the mass of Earth and Mercury.\n",
      "Action: get_planet_mass: Earth\n",
      "PAUSE\n",
      ">> Execute the action: [('get_planet_mass', 'Earth')]\n",
      ">> Get the Observation: 5.972e+24\n",
      "=================================== Iterations: 2 =================================================\n",
      ">> Prompt: Observation: 5.972e+24\n",
      ">> Result: \n",
      "Thought: I need to find the mass of Mercury.\n",
      "Action: get_planet_mass: Mercury\n",
      "PAUSE\n",
      ">> Execute the action: [('get_planet_mass', 'Mercury')]\n",
      ">> Get the Observation: 3.3011e+23\n",
      "=================================== Iterations: 3 =================================================\n",
      ">> Prompt: Observation: 3.3011e+23\n",
      ">> Result: \n",
      "Thought: I need to add the masses of Earth and Mercury.\n",
      "Action: calculate: 5.972e+24 + 3.3011e+23\n",
      "PAUSE\n",
      ">> Execute the action: [('calculate', '5.972e+24 + 3.3011e+23')]\n",
      ">> Get the Observation: 6.302110000000001e+24\n",
      "=================================== Iterations: 4 =================================================\n",
      ">> Prompt: Observation: 6.302110000000001e+24\n",
      ">> Result: \n",
      "Thought: I need to multiply the result by 5.\n",
      "Action: calculate: 6.302110000000001e+24 * 5\n",
      "PAUSE\n",
      ">> Execute the action: [('calculate', '6.302110000000001e+24 * 5')]\n",
      ">> Get the Observation: 3.151055e+25\n",
      "=================================== Iterations: 5 =================================================\n",
      ">> Prompt: Observation: 3.151055e+25\n",
      ">> Result: \n",
      "Thought: I have the final answer.\n",
      "Answer: The mass of Earth plus the mass of Mercury and all of it times 5 is 3.151055e+25.\n",
      ">> Got the point!\n"
     ]
    }
   ],
   "source": [
    "agent_loop(max_iterations=10, system=system_prompt, query=\"What is the mass of Earth plus the mass of Mercury and all of it times 5?\")"
   ]
  },
  {
   "cell_type": "code",
   "execution_count": null,
   "id": "bcf23506-b3ec-48c1-8ea9-98952f04385c",
   "metadata": {},
   "outputs": [],
   "source": []
  }
 ],
 "metadata": {
  "kernelspec": {
   "display_name": "Python 3 (ipykernel)",
   "language": "python",
   "name": "python3"
  },
  "language_info": {
   "codemirror_mode": {
    "name": "ipython",
    "version": 3
   },
   "file_extension": ".py",
   "mimetype": "text/x-python",
   "name": "python",
   "nbconvert_exporter": "python",
   "pygments_lexer": "ipython3",
   "version": "3.11.9"
  }
 },
 "nbformat": 4,
 "nbformat_minor": 5
}
